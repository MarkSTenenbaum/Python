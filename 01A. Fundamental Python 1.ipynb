{
 "cells": [
  {
   "cell_type": "markdown",
   "metadata": {
    "ExecuteTime": {
     "end_time": "2022-08-29T23:04:58.075620Z",
     "start_time": "2022-08-29T23:04:58.054643Z"
    },
    "slideshow": {
     "slide_type": "slide"
    }
   },
   "source": [
    "#  Python Practice 1.\n",
    "\n",
    "## Before we start, let us walk through some of the menu functions:\n",
    "\n",
    "     - Save the file\n",
    "     - check file name \n",
    "     - Add a cell\n",
    "     - Delete a cell\n",
    "     - Copy/Paste\n",
    "     - Move up/down\n",
    "     - Run, Restart, Run all cell\n",
    "     - Code/Makedown\n",
    "\n",
    "\n",
    "## check the help first\n",
    "\n"
   ]
  },
  {
   "cell_type": "markdown",
   "metadata": {},
   "source": [
    "## The notebook covers:\n",
    "    - print a line on your screen\n",
    "    - comment\n",
    "    - quote, single, double, triple\n",
    "    - block, group, indentation\n",
    "    - line, continuous, multi-lines\n",
    "\n",
    "    REF: \n",
    "    - These tutorials are easy for us to follow:  \n",
    "        - https://www.w3schools.com/python/  \n",
    "        - https://www.tutorialspoint.com/python3/index.htm"
   ]
  },
  {
   "cell_type": "raw",
   "metadata": {
    "ExecuteTime": {
     "end_time": "2022-08-29T23:17:12.121971Z",
     "start_time": "2022-08-29T23:17:12.115960Z"
    }
   },
   "source": [
    "# SHORTCUTS:  ESC + H: for all shortcut help\n",
    "\n",
    "\n",
    "CTRL + C copy \n",
    "CTRL + V paste \n",
    "\n",
    "CTRL + D for delete \n",
    "CTRL + Z undo \n",
    "CTRL + Y redo\n",
    "\n",
    "CTRL + \"+\" zoom in\n",
    "CTRL + \"-\" zoom out\n",
    "\n",
    "# CTRL + /  comment\n",
    "# CTRL + \"]\" one-tab right\n",
    "# CTRL + \"[\" one-tab right\n",
    "\n",
    "CTRL + Enter run current cell \n",
    "Shift + Enter run current cell and move to next cell \n",
    "\n",
    "\n",
    "ESC + H:h for all shortcut help\n",
    "\n",
    ".... \n",
    "\n",
    "tab completion "
   ]
  },
  {
   "cell_type": "markdown",
   "metadata": {},
   "source": [
    "# (a)  print a line first"
   ]
  },
  {
   "cell_type": "code",
   "execution_count": 1,
   "metadata": {
    "ExecuteTime": {
     "end_time": "2023-01-11T20:55:01.222052Z",
     "start_time": "2023-01-11T20:55:01.206044Z"
    },
    "hide_input": true
   },
   "outputs": [
    {
     "name": "stdout",
     "output_type": "stream",
     "text": [
      " Hello Class!\n"
     ]
    }
   ],
   "source": [
    "# test printing a line\n",
    "# this is comment\n",
    "\n",
    "print(\" Hello Class!\" ) # test printing a line"
   ]
  },
  {
   "cell_type": "markdown",
   "metadata": {},
   "source": [
    "## (b) Comment, comments"
   ]
  },
  {
   "cell_type": "code",
   "execution_count": 2,
   "metadata": {
    "ExecuteTime": {
     "end_time": "2023-01-11T20:55:01.238044Z",
     "start_time": "2023-01-11T20:55:01.222052Z"
    }
   },
   "outputs": [
    {
     "name": "stdout",
     "output_type": "stream",
     "text": [
      " x = 10\n"
     ]
    },
    {
     "data": {
      "text/plain": [
       "'John'"
      ]
     },
     "execution_count": 2,
     "metadata": {},
     "output_type": "execute_result"
    }
   ],
   "source": [
    "y = 100\n",
    "x = 10  #  you can put a comment here: define a varialbe\n",
    "\n",
    "print(\" x =\", x)  # in between there is comma to print out the x value\n",
    "\n",
    "# the last line: auto execute for printing out\n",
    "name = \"John\"\n",
    "\n",
    "name"
   ]
  },
  {
   "cell_type": "code",
   "execution_count": 3,
   "metadata": {
    "ExecuteTime": {
     "end_time": "2023-01-11T20:55:01.246044Z",
     "start_time": "2023-01-11T20:55:01.238044Z"
    }
   },
   "outputs": [
    {
     "name": "stdout",
     "output_type": "stream",
     "text": [
      "this is the multiple line comment, both signle quote and double quote are ok, but don't mix them!  \n"
     ]
    }
   ],
   "source": [
    "# multiple line comment can be start with triple quote (single/double)\n",
    "\"\"\"\n",
    "\n",
    "\n",
    "\n",
    "line one\n",
    "line two\n",
    "...\n",
    "\n",
    "\n",
    "\n",
    "\n",
    "\n",
    "last line\n",
    "\n",
    "\"\"\"\n",
    "print(\n",
    "    \"this is the multiple line comment, both signle quote and double quote are ok, but don't mix them!  \"\n",
    ")"
   ]
  },
  {
   "cell_type": "markdown",
   "metadata": {},
   "source": [
    "## (c) understand the  assignment  = "
   ]
  },
  {
   "cell_type": "code",
   "execution_count": 4,
   "metadata": {
    "ExecuteTime": {
     "end_time": "2023-01-11T20:55:01.262056Z",
     "start_time": "2023-01-11T20:55:01.246044Z"
    }
   },
   "outputs": [
    {
     "name": "stdout",
     "output_type": "stream",
     "text": [
      "x = 10 y = 20\n",
      "after swap\n",
      "x = 20 y = 10\n",
      "For string type\n"
     ]
    },
    {
     "data": {
      "text/plain": [
       "str"
      ]
     },
     "execution_count": 4,
     "metadata": {},
     "output_type": "execute_result"
    }
   ],
   "source": [
    "# define two integers:\n",
    "x = 10\n",
    "y = 20\n",
    "print(\"x =\", x , \"y =\", y)\n",
    "\n",
    "# swap is easy\n",
    "x, y = y, x \n",
    "\n",
    "print(\"after swap\")\n",
    "print(\"x =\", x , \"y =\", y)\n",
    "\n",
    "\n",
    "# # # # # assign string to string type, use single quote or double quote pairs,  both are ok\n",
    "print(\"For string type\")\n",
    "first_name = 'john'\n",
    "last_name = \"smith\"\n",
    "\n",
    "# # print(first_name)\n",
    "# # print(last_name)\n",
    "\n",
    "type(last_name) \n"
   ]
  },
  {
   "cell_type": "markdown",
   "metadata": {},
   "source": [
    "## (d) understand the indentation"
   ]
  },
  {
   "cell_type": "code",
   "execution_count": 5,
   "metadata": {
    "ExecuteTime": {
     "end_time": "2023-01-11T20:55:01.270045Z",
     "start_time": "2023-01-11T20:55:01.262056Z"
    }
   },
   "outputs": [
    {
     "name": "stdout",
     "output_type": "stream",
     "text": [
      "\t block True\n"
     ]
    }
   ],
   "source": [
    "# indetation: same indentation means the statements are in the same block\n",
    "\n",
    "# case 1:\n",
    "quit = False # this is a boolean varialbe, two possible values: True/False\n",
    "\n",
    "if quit != True:\n",
    "    print(\"\\t block True\")\n",
    "    \n",
    "else:\n",
    "    print(\"\\t block False\")\n",
    "    print(\"\\t end \")\n",
    "    \n",
    "\n",
    "    print(\"----------\")"
   ]
  },
  {
   "cell_type": "markdown",
   "metadata": {},
   "source": [
    "## (e) statement line "
   ]
  },
  {
   "cell_type": "code",
   "execution_count": 6,
   "metadata": {
    "ExecuteTime": {
     "end_time": "2023-01-11T20:55:01.286044Z",
     "start_time": "2023-01-11T20:55:01.270045Z"
    }
   },
   "outputs": [
    {
     "name": "stdout",
     "output_type": "stream",
     "text": [
      " x= 1  y = 2  z = 3\n"
     ]
    }
   ],
   "source": [
    "# line: multiple statement one statement cross multiple lines\n",
    "item_one = 1\n",
    "item_two = 2\n",
    "item_three = 3\n",
    "total = item_one + \\\n",
    "        item_two + \\\n",
    "        item_three\n",
    "\n",
    "total \n",
    "\n",
    "\n",
    "\n",
    "# # # one statement cross multiple lines\n",
    "x = 1; y = 2; z =3\n",
    "\n",
    "print(\" x=\",  x, \n",
    "      \" y =\", y, \n",
    "      \" z =\", z)\n"
   ]
  },
  {
   "cell_type": "markdown",
   "metadata": {},
   "source": [
    "## (f) variable names"
   ]
  },
  {
   "cell_type": "code",
   "execution_count": 7,
   "metadata": {
    "ExecuteTime": {
     "end_time": "2023-01-11T20:55:01.302047Z",
     "start_time": "2023-01-11T20:55:01.286044Z"
    }
   },
   "outputs": [
    {
     "data": {
      "text/plain": [
       "'__main__'"
      ]
     },
     "execution_count": 7,
     "metadata": {},
     "output_type": "execute_result"
    }
   ],
   "source": [
    "# use meaningful name for your variables, but follow the roles\n",
    "age_10 = 10\n",
    "first_name =\"John\"\n",
    "\n",
    "__name__                     # total fine, but double underscore names have special meaning defined in Python\n",
    "\n",
    " \n",
    "\n",
    "# some rules:\n",
    "# A-Z, a-z, _ , 0-9          # OK for names\n",
    "# $@!&                       # no good for names, no space in between, not starting with num.\n",
    "# $2=2;                      # invalid variable name\n"
   ]
  },
  {
   "cell_type": "markdown",
   "metadata": {},
   "source": [
    "## (g) Python has a lot of built-in functions "
   ]
  },
  {
   "cell_type": "code",
   "execution_count": 8,
   "metadata": {
    "ExecuteTime": {
     "end_time": "2023-01-11T20:55:01.318046Z",
     "start_time": "2023-01-11T20:55:01.302047Z"
    }
   },
   "outputs": [
    {
     "data": {
      "text/plain": [
       "int"
      ]
     },
     "execution_count": 8,
     "metadata": {},
     "output_type": "execute_result"
    }
   ],
   "source": [
    "# python has a lot of built-in functions. \n",
    "# Example: type() for cheching data type\n",
    "\n",
    "days = 365\n",
    "type(days) # check the data type\n",
    "\n",
    " \n"
   ]
  },
  {
   "cell_type": "code",
   "execution_count": 9,
   "metadata": {
    "ExecuteTime": {
     "end_time": "2023-01-11T20:55:01.334045Z",
     "start_time": "2023-01-11T20:55:01.318046Z"
    }
   },
   "outputs": [
    {
     "data": {
      "text/plain": [
       "6"
      ]
     },
     "execution_count": 9,
     "metadata": {},
     "output_type": "execute_result"
    }
   ],
   "source": [
    "# Example sum()\n",
    "sum ([1, 2, 3])\n",
    "\n"
   ]
  },
  {
   "cell_type": "code",
   "execution_count": 10,
   "metadata": {
    "ExecuteTime": {
     "end_time": "2023-01-11T20:55:01.342044Z",
     "start_time": "2023-01-11T20:55:01.334045Z"
    }
   },
   "outputs": [
    {
     "data": {
      "text/plain": [
       "float"
      ]
     },
     "execution_count": 10,
     "metadata": {},
     "output_type": "execute_result"
    }
   ],
   "source": [
    "# Type conversion\n",
    "average_homework = (10 + 20 + 30)/3\n",
    "type(average_homework)"
   ]
  },
  {
   "cell_type": "code",
   "execution_count": 13,
   "metadata": {
    "ExecuteTime": {
     "end_time": "2023-01-11T20:56:21.255258Z",
     "start_time": "2023-01-11T20:56:21.231257Z"
    }
   },
   "outputs": [
    {
     "data": {
      "text/plain": [
       "\"David's last name is .. \""
      ]
     },
     "execution_count": 13,
     "metadata": {},
     "output_type": "execute_result"
    }
   ],
   "source": [
    "# backslash is called escape which is a special character, not the backslash \n",
    "name = 'David\\'s last name is .. ' \n",
    "name"
   ]
  },
  {
   "cell_type": "markdown",
   "metadata": {},
   "source": [
    "# END HERE! IT IS GOOD TO RETYPE and TEST THEM!"
   ]
  }
 ],
 "metadata": {
  "hide_input": false,
  "kernelspec": {
   "display_name": "Python 3",
   "language": "python",
   "name": "python3"
  },
  "language_info": {
   "codemirror_mode": {
    "name": "ipython",
    "version": 3
   },
   "file_extension": ".py",
   "mimetype": "text/x-python",
   "name": "python",
   "nbconvert_exporter": "python",
   "pygments_lexer": "ipython3",
   "version": "3.8.8"
  },
  "toc": {
   "base_numbering": 1,
   "nav_menu": {},
   "number_sections": true,
   "sideBar": true,
   "skip_h1_title": false,
   "title_cell": "Table of Contents",
   "title_sidebar": "Contents",
   "toc_cell": false,
   "toc_position": {},
   "toc_section_display": true,
   "toc_window_display": false
  },
  "varInspector": {
   "cols": {
    "lenName": 16,
    "lenType": 16,
    "lenVar": 40
   },
   "kernels_config": {
    "python": {
     "delete_cmd_postfix": "",
     "delete_cmd_prefix": "del ",
     "library": "var_list.py",
     "varRefreshCmd": "print(var_dic_list())"
    },
    "r": {
     "delete_cmd_postfix": ") ",
     "delete_cmd_prefix": "rm(",
     "library": "var_list.r",
     "varRefreshCmd": "cat(var_dic_list()) "
    }
   },
   "types_to_exclude": [
    "module",
    "function",
    "builtin_function_or_method",
    "instance",
    "_Feature"
   ],
   "window_display": false
  }
 },
 "nbformat": 4,
 "nbformat_minor": 2
}
