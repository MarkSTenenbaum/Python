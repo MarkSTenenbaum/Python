{
    "cells": [
        {
            "cell_type": "markdown",
            "metadata": {},
            "source": [
                "## Loading `reticulate` package\n",
                "\n"
            ]
        },
        {
            "cell_type": "code",
            "execution_count": null,
            "metadata": {},
            "outputs": [],
            "source": [
                "library(reticulate)\n",
                "use_python('/Users/marktenenbaum/opt/anaconda3/bin/python')\n"
            ]
        },
        {
            "cell_type": "markdown",
            "metadata": {},
            "source": [
                "## Brief summary\n",
                "\n",
                "-   [] for list\n",
                "-   () for tuples\n",
                "-   {key:value} for dictionaries\n",
                "-   {} for set\n",
                "-   \n",
                "\n",
                "## About Tuples\n",
                "\n",
                "**Tuples** are a type of sequence. Here are some types of sequence\n",
                "\n",
                "-   list (mutable)\n",
                "-   range\n",
                "-   String (not mutable)\n",
                "-   Tuple (not mutable)\n",
                "-   \n",
                "\n",
                "This varies from **collections**:\n",
                "\n",
                "-   dictionary (mutable, no order)\n",
                "-   collections\n",
                "\n",
                "#### Examples of tuples\n"
            ]
        },
        {
            "cell_type": "code",
            "execution_count": null,
            "metadata": {},
            "outputs": [],
            "source": [
                "tup1 = ('physics', 'chemistry', 1997, 2000)\n",
                "tup2 = (1, 2, 3, 4, 5 )\n",
                "tup3 = \"a\", \"b\", \"c\", \"d“ # also ok\n",
                "tup0 = () \n",
                "tup_x = (0,)  \n",
                "tup_x = 0\n"
            ]
        },
        {
            "cell_type": "markdown",
            "metadata": {},
            "source": [
                "#### Tuples can be manipulated just like lists\n",
                "\n"
            ]
        },
        {
            "cell_type": "code",
            "execution_count": null,
            "metadata": {},
            "outputs": [],
            "source": [
                "len(tup1)\n",
                "max(tup2)\n",
                "min(tup2)\n",
                "names = ['john', 'tim', 'ellen'] # a lsit\n",
                "tuple(names) # print as tuple \n",
                "list(tup2)   # convert to list\n"
            ]
        },
        {
            "cell_type": "markdown",
            "metadata": {},
            "source": [
                "Methods (only two)\n",
                "\n",
                "-   .count(item)\n",
                "-   .index(item)\n",
                "\n",
                "## About Dictionaries\n",
                "\n",
                "Syntax: dict_example = {key:value, key:value...}\n",
                "\n",
                "\"key:value\" is one item. Items are separated by commas.\n",
                "\n",
                "Dictionaries use curly braces. {}\n",
                "\n",
                "not an ordered collection\n",
                "\n",
                "no indexing or duplicated items\n",
                "\n",
                "Note: if you want to index, convert dictionary to list using `list()`\n",
                "\n",
                "Keys\n",
                "\n",
                "-   unique, as index\n",
                "-   Immutable data type such as strings, numbers, or tuples\n",
                "\n",
                "Values\n",
                "\n",
                "-   May not be unique\n",
                "-   values of a dictionary can be of any typs\n",
                "\n",
                "#### Creating dictionary\n"
            ]
        },
        {
            "cell_type": "code",
            "execution_count": null,
            "metadata": {},
            "outputs": [],
            "source": [
                "dict_0 = {} \n",
                "student = {'Name': 'Zara', 'Age': 24, 'Class': 'Junoir', 'school':'CUA'}\n",
                "capitals = {'USA': 'DC', 'UK':'London', 'France':'Paris'}\n"
            ]
        },
        {
            "cell_type": "markdown",
            "metadata": {},
            "source": [
                "#### Accessing/slicing dictionary\n",
                "\n"
            ]
        },
        {
            "cell_type": "code",
            "execution_count": null,
            "metadata": {},
            "outputs": [],
            "source": [
                "# looking at student age\n",
                "value = dict['key']          # ??\n",
                "student_age = student[\"Age\"]\n",
                "print(student_age)\n",
                "\n",
                "# looking at us capital\n",
                "us_capital = capitals['USA']\n",
                "print(us_capital)\n",
                "\n",
                "# Chaning dictionary\n",
                "student['Age'] = 27 \n",
                "\n",
                "# add new entry \n",
                "student['Hobby'] = 'Running'\n",
                "\n",
                "# remove all items in dictionary\n",
                "dictionary = {'Name': 'Zara', 'Age': 7, 'Class': 'First'}\n",
                "dictionary.clear()\n",
                "\n",
                "# Delete particular item \n",
                "dictionary = {'Name': 'Zara', 'Age': 7, 'Class': 'First'}\n",
                "del dictionary['Name']\n",
                "\n",
                "# delete entire dictionary\n",
                "del dictionary\n",
                "\n",
                "# Using in loops\n",
                "for key in capitals:             # just key\n",
                "  print(key) \n",
                "  print()\n",
                "\n",
                "for value in capitals.values(): # just value\n",
                "  print(value)\n",
                "  print()\n",
                "  \n",
                "for k,v in capitals.items():    # key and value\n",
                "  print(k,v)\n"
            ]
        },
        {
            "cell_type": "markdown",
            "metadata": {},
            "source": [
                "#### Built-in functions and methods for dictionaries\n",
                "\n"
            ]
        },
        {
            "cell_type": "code",
            "execution_count": null,
            "metadata": {},
            "outputs": [],
            "source": [
                "# functions\n",
                "cmp(student, capitals) ## ??\n",
                "len(student) # length (number of pairs)\n",
                "str(student) # string representation of dict\n",
                "type(student) # shows type = 'dictionary'\n",
                "\n",
                "# Methods\n",
                "dictionary = {'Name': 'Zara', 'Age': 7, 'Class': 'First'}\n",
                "dictionary.copy()          # returns copy of dictionary\n",
                "dictionary.fromkeys('Zara')# reate new dic w/ keys from seq & vals set to val\n",
                "dictionary.get('Name')     # returns value for key assigned\n",
                "#dictionary.has_key('Zara') # returns true if has key\n",
                "dictionary.items()         # lists each item \n",
                "dictionary.keys()          # lists each key\n",
                "dictionary.setdefault('Name') # similar to .get\n",
                "#dictionary.update('Food':'Yogurt') # add item to dictionary\n",
                "dictionary.values()        # lists each value\n"
            ]
        },
        {
            "cell_type": "markdown",
            "metadata": {},
            "source": [
                "## About sets\n",
                "\n",
                "**Sets have:**\n",
                "\n",
                "-   no repeated values\n",
                "-   not an ordered collection\n",
                "-   no indexing\n",
                "-   No duplicated items\n",
                "-   You can convert a set to list by using `list()`\n",
                "\n",
                "**Operations for sets**\n",
                "\n",
                "-   When dealing with sets we primarily deal with\n",
                "    -   in\n",
                "\n",
                "    -   union/intersection\n"
            ]
        },
        {
            "cell_type": "code",
            "execution_count": null,
            "metadata": {},
            "outputs": [],
            "source": [
                "my_set = {1, 2, 3, 4, 5}\n",
                "my_subset = {1, 2, 3}\n",
                "4 in my_set                            # T/F\n",
                "'hi' not in my_set                     #T/F\n",
                "my_subset.issubset(my_set)             # set contains all subset values\n",
                "my_set.issuperset(my_subset)           #  all sub items in set\n",
                "my_set.union(my_subset)                #  new set w/ elements from EITHER\n",
                "my_set.intersection(my_subset)         # only terms found in BOTH\n",
                "my_set.difference(my_subset)           # in set by not subset\n",
                "my_set.symmetric_difference(my_subset) # in one not both\n",
                "my_set.copy()                          # copy set\n"
            ]
        },
        {
            "cell_type": "markdown",
            "metadata": {},
            "source": [
                "## Misc. other stuff from class\n",
                "\n"
            ]
        },
        {
            "cell_type": "code",
            "execution_count": null,
            "metadata": {},
            "outputs": [],
            "source": [
                "# example in loop\n",
                "v2 = [1, 2, 3, 3, 4, 5]\n",
                "\n",
                "for i in range(len(v2) ):\n",
                "    if v2.count(v2[i]) > 1: \n",
                "\t\tv2[i] = \"repeat\"\n",
                "v2.remove(\"repeat\")\n",
                "print(v2)\n",
                "\n",
                "# list comprehension\n",
                "b = [a for a in range(10, 100, 10) ]\n",
                "y = [x for x in range(10) if x%2 == 0]\n",
                "\n",
                "# identity operators\n",
                "b is y\n",
                "\n",
                "# enumerate\n",
                "list_1 = [\"eat\",\"sleep\",\"repeat\"] \n",
                "for i, word in enumerate(list_1):\n",
                "  print(i, word)\n",
                "  \n",
                "for word in enumerate(list_1):\n",
                "  print(word)\n",
                "\n",
                "# sorting second list based on first list order\n",
                "names = [\"John\", \"Alice\", \"Peter\", \"Nancy\"]\n",
                "scores = [90, 70, 80, 95]\n",
                "\n",
                "zipped = sorted(zip(names, scores))\n",
                "print(zipped)\n",
                "\n",
                "n1 = [n for n, _ in zipped]\n",
                "print(n1)\n",
                "\n",
                "s1 = [s for _, s in zipped]\n",
                "print(s1)\n"
            ]
        },
        {
            "cell_type": "markdown",
            "metadata": {},
            "source": [
                "## Saving the Rmd as .ipynb\n",
                "\n"
            ]
        },
        {
            "cell_type": "code",
            "execution_count": null,
            "metadata": {},
            "outputs": [],
            "source": [
                "devtools::install_github(\"mkearney/rmd2jupyter\")\n",
                "library(rmd2jupyter)\n",
                "rmd2jupyter(\"Test_file.Rmd\")\n"
            ]
        }
    ],
    "metadata": {
        "anaconda-cloud": "",
        "kernelspec": {
            "display_name": "R",
            "langauge": "R",
            "name": "ir"
        },
        "language_info": {
            "codemirror_mode": "r",
            "file_extension": ".r",
            "mimetype": "text/x-r-source",
            "name": "R",
            "pygments_lexer": "r",
            "version": "3.4.1"
        }
    },
    "nbformat": 4,
    "nbformat_minor": 1
}
