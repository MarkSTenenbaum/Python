{
    "cells": [
        {
            "cell_type": "markdown",
            "metadata": {},
            "source": "\n"
        },
        {
            "cell_type": "code",
            "execution_count": null,
            "metadata": {},
            "outputs": [],
            "source": [
                "library(reticulate)\n",
                "use_python('/Users/marktenenbaum/opt/anaconda3/bin/python')\n"
            ]
        },
        {
            "cell_type": "markdown",
            "metadata": {},
            "source": [
                "# 1. Mapping\n",
                "\n",
                "**Syntax**: `map(fun, iter)`\n",
                "\n",
                "-   **fun**: function to which map passes each element of given iterable\n",
                "-   **Iter**: iterable which is to be mapped.\n",
                "-   Returns a map object of the results after applying the given function of each item of given iterable\n"
            ]
        },
        {
            "cell_type": "code",
            "execution_count": null,
            "metadata": {},
            "outputs": [],
            "source": [
                "# Example using function \n",
                "def c_to_f(c):\n",
                "  return c*9/5 + 32\n",
                "\n",
                "temp_c = [0, 25, 40, 100]\n",
                "temp_f = list(map(c_to_f, temp_c) )\n",
                "\n",
                "# example using lambda\n",
                "temp_f = list(map(lambda x: (x*9/5+32), temp_c))\n",
                "temp_f \n",
                "\n",
                "# Another example (inner product)\n",
                "point_1 = [4, 5, 6]\n",
                "point_2 = [5, 6, 7]\n",
                "\n",
                "product = sum(  map(lambda n1, n2: n1*n2, point_1, point_2)  ) \n",
                "print(product)\n"
            ]
        },
        {
            "cell_type": "markdown",
            "metadata": {},
            "source": [
                "# 2. Filter\n",
                "\n"
            ]
        },
        {
            "cell_type": "code",
            "execution_count": null,
            "metadata": {},
            "outputs": [],
            "source": [
                "# Regular example\n",
                "grades = [90, 40, 80, 100, 70, 60, 88, 99 ]\n",
                "\n",
                "excellent = list( filter(lambda x: x>=90, grades) ) # find all grade >=90\n",
                "\n",
                "\n",
                "print(excellent)\n"
            ]
        },
        {
            "cell_type": "markdown",
            "metadata": {},
            "source": [
                "# 3. Reduce\n",
                "\n",
                "Python's reduce() is a function that implements a mathematical technique called folding or reduction. reduce() is useful when you need to apply a function to an iterable and reduce it to a single cumulative value.\n"
            ]
        },
        {
            "cell_type": "code",
            "execution_count": null,
            "metadata": {},
            "outputs": [],
            "source": [
                "from functools import reduce\n",
                "data = [ 1, 2, 3, 4, 5, 6, 7, 8, 9, 10]\n",
                "\n",
                "# sum\n",
                "reduce( lambda x, y: x+y, data) # adds all numbers\n",
                "\n",
                "# factorial\n",
                "reduce( lambda x, y: x*y, data) # multiplies all numbers\n"
            ]
        },
        {
            "cell_type": "markdown",
            "metadata": {},
            "source": [
                "# 4. Comprehension\n",
                "\n",
                "Construct new sequences using sequences\n",
                "\n",
                "-   List Comprehensions\n",
                "-   Dictionary Comprehensions\n",
                "-   Set Comprehensions\n"
            ]
        },
        {
            "cell_type": "code",
            "execution_count": null,
            "metadata": {},
            "outputs": [],
            "source": [
                "# simple example\n",
                "input_list = [1, 2, 3, 4, 5, 6, 7] \n",
                "list_using_comp = [x*x for x in input_list]\n",
                "list_using_comp\n",
                "  \n",
                "# more complicated example\n",
                "output_list = [] \n",
                "for var in input_list: \n",
                "\toutput_list.append(var*var) \n",
                "output_list\n"
            ]
        },
        {
            "cell_type": "markdown",
            "metadata": {},
            "source": [
                "# 5. Opening file\n",
                "\n",
                "Modes\n",
                "\n",
                "-   r = reading\n",
                "-   w = writing\n",
                "-   a = appending\n",
                "-   r+ = reading and writing\n",
                "\n",
                "open(\"file_name\")\n",
                "\n",
                "-   This file is located in current directory\n",
                "\n",
                "<!-- -->\n",
                "\n",
                "-   You can also use relative or absolute path\n",
                "-   \" ./sub-directory/sus-sub/xxx.txt\"\n",
                "-   ./ means current directory ../ means one level up\n"
            ]
        },
        {
            "cell_type": "code",
            "execution_count": null,
            "metadata": {},
            "outputs": [],
            "source": [
                "# # Open a file for reading \n",
                "# file = open(\"readme.txt\")\n",
                "# \n",
                "# #the file obj. property or method()# \n",
                "#  #check the file name\n",
                "#  print( \"Name of the file: \", file.name) \n",
                "# \n",
                "# # the mode is 'r' for read \n",
                "# print(\" Mode of file now:\", file.mode)\n"
            ]
        },
        {
            "cell_type": "markdown",
            "metadata": {},
            "source": "\n"
        },
        {
            "cell_type": "code",
            "execution_count": null,
            "metadata": {},
            "outputs": [],
            "source": [
                "# #(1) read in all characters\n",
                "# \tfile_name.read()  # default: read in all \n",
                "#  \n",
                "# \t# read  some characters\n",
                "# \tfile_name.read(10) # the first 10 characters\n",
                "# \n",
                "# #(2) read line by line\n",
                "# \tprint(file.readline()) # read the first line\n",
                "# \tprint(file.readline()) # read the second line\n",
                "# \n",
                "# #(3) read all lines: all lines => list of lines\n",
                "# \tfile.readlines() \n"
            ]
        },
        {
            "cell_type": "markdown",
            "metadata": {},
            "source": [
                "### Looping\n",
                "\n"
            ]
        },
        {
            "cell_type": "code",
            "execution_count": null,
            "metadata": {},
            "outputs": [],
            "source": [
                "#(1)print line,  one by one in the file \n",
                "# for line in file: \n",
                "#     print(line) \n",
                "# \n",
                "# #(2)work on data: character by character\n",
                "# data = file.read() \n",
                "# for ch in data:\n",
                "#     print(ch, end=\" \")\n",
                "# \n",
                "# \n",
                "# # (3) read in all lines: line by line=> list of lines\n",
                "# data = file.readlines()  \n",
                "# for line in data:\n",
                "#     for word in line.split(\" \"):\n",
                "#         print(word, end = \" \")\n"
            ]
        },
        {
            "cell_type": "markdown",
            "metadata": {},
            "source": [
                "### Close an open file \n",
                "\n"
            ]
        },
        {
            "cell_type": "code",
            "execution_count": null,
            "metadata": {},
            "outputs": [],
            "source": [
                "# For example:\n",
                "# file = open(\"readme.txt\")\n",
                "# data = file.read() \n",
                "# \n",
                "# \n",
                "# # close now\n",
                "# file.close()\n",
                "# \n",
                "# # check if closed\n",
                "# print(\"Closed or not : \", file.closed)\n",
                "\n",
                "# # Closing a file automatically using with as\n",
                "# with open(\"readme.txt\") as file:   \n",
                "#     data = file.read()  \n",
                "#     print(data)\n",
                "# \n",
                "# print( \"closed file? \", file.closed)\n",
                "pip install ipywidgets\n"
            ]
        },
        {
            "cell_type": "markdown",
            "metadata": {},
            "source": [
                "# 6. Exceptions\n",
                "\n",
                "### Common mistakes\n",
                "\n",
                "**Editing**:\n",
                "\n",
                "-   syntax (forget \":\" after def a function)\n",
                "\n",
                "**Exceptions**\n",
                "\n",
                "-   dividing zero 1/0\n",
                "-   wrong data type ( input a number but given a letter)\n",
                "-   out of bound for list\n",
                "-   file not found\n",
                "-   EOF error\n",
                "-   write to a read file\n",
                "\n",
                "### How to handle exceptions\n",
                "\n",
                "-   Python has many built-in exceptions which forces your program to output an error when something in it goes wrong. ( A short list is given in the next slide)\n",
                "-   When these exceptions occur, it causes the current process to stop and passes it to the calling process until it is handled.\n",
                "-   If not handled, our program will crash.\n",
                "\n",
                "![](images/paste-3219E119.png)\n",
                "\n",
                "### Catching exceptions in Python\n",
                "\n",
                "try:\n",
                "\n",
                "Statement 1 ... except:\\\n",
                "print(\"some error message.\")\n",
                "\n",
                "\\\n",
                "inside the try clause:\n",
                "\n",
                "-   if any critical operation can raise exception, go to except clause otherwise skip the except clause\n",
                "\n",
                "Then except clause\n",
                "\n",
                "-   Do something you set up ( It is up to us, what operations we perform once we have caught the exception. )\n",
                "\n",
                "Catch specific exceptions\n",
                "\n",
                "-   If we don't mention any exception in the except clause. catch all exceptions and handle every case in the same way.\n",
                "-   More often, we specify which exception(s) clause will catch.\n"
            ]
        },
        {
            "cell_type": "code",
            "execution_count": null,
            "metadata": {},
            "outputs": [],
            "source": [
                "# (1) normal operation\n",
                "num = 0          # in case you missed it\n",
                "try:\n",
                "    print(100/num)  # normal operation\n",
                "\n",
                "# (2) an error happens, catch and print message    \n",
                "Except: \n",
                "    print(\"You cannot divide by zero!\")\n",
                "# (3) continue until the end without crash.\n"
            ]
        },
        {
            "cell_type": "markdown",
            "metadata": {},
            "source": "\n"
        },
        {
            "cell_type": "code",
            "execution_count": null,
            "metadata": {},
            "outputs": [],
            "source": [
                "try:\n",
                "    file = open(\"readme.txt\")\n",
                "    for line in file:\n",
                "        print(line)\n",
                "    file.close()\n",
                "    \n",
                "except IOError: # IOError is a built-in exception\n",
                "    print(\"An IOError has occurred!\")\n"
            ]
        },
        {
            "cell_type": "markdown",
            "metadata": {},
            "source": "\n"
        },
        {
            "cell_type": "code",
            "execution_count": null,
            "metadata": {},
            "outputs": [],
            "source": [
                "try:\n",
                "    num = int(input(\"Enter a positive integer: \"))\n",
                "    if num < 1:\n",
                "        raise ValueError(\"num > 1 please\")\n",
                "\n",
                "except ValueError as message:\n",
                "    print(message)\n"
            ]
        },
        {
            "cell_type": "markdown",
            "metadata": {},
            "source": "\n"
        },
        {
            "cell_type": "code",
            "execution_count": null,
            "metadata": {},
            "outputs": [],
            "source": [
                "list_a = [1, 2, 3, 4]\n",
                "\n",
                "try:\n",
                "    value = list_a[4]              #  out of bound \n",
                "\n",
                "except:\n",
                "    print(\"A error occurred!\")\n",
                "\n",
                "else:\n",
                "    print(\"No error occurred!\")\n",
                "    \n",
                "print(\"----end of program ----\") \n"
            ]
        },
        {
            "cell_type": "markdown",
            "metadata": {},
            "source": "\n"
        },
        {
            "cell_type": "code",
            "execution_count": null,
            "metadata": {},
            "outputs": [],
            "source": [
                "devtools::install_github(\"mkearney/rmd2jupyter\")\n",
                "library(rmd2jupyter)\n",
                "rmd2jupyter(\"Map, filter, reduce, comprehension, exceptions.Rmd\")\n"
            ]
        }
    ],
    "metadata": {
        "anaconda-cloud": "",
        "kernelspec": {
            "display_name": "R",
            "langauge": "R",
            "name": "ir"
        },
        "language_info": {
            "codemirror_mode": "r",
            "file_extension": ".r",
            "mimetype": "text/x-r-source",
            "name": "R",
            "pygments_lexer": "r",
            "version": "3.4.1"
        }
    },
    "nbformat": 4,
    "nbformat_minor": 1
}
