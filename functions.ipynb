---
title: "Functions"
author: "MARK TENENBAUM"
date: "2023-02-01"
output: pdf_document
---

## Loading `reticulate` package

```{r}
library(reticulate)
use_python('/Users/marktenenbaum/opt/anaconda3/bin/python')
```

[**Various Input/Output:**]{.underline}

-   No input arguments/No return values
-   No input/with return
-   With input/No return values
-    With input/with return

[**What is a function?**]{.underline}

-   block of code w/ given name for some defined purpose

    good for

-   code reuse

-   better modularity

-   hidden info/implementation

[**Three kinds of functions**]{.underline}

1.  built-in functions (come with python language)
    1.  e.g., `help()` and `print()`
2.  User-defined functions
    1.  We will work on them
3.  Anonymous functions
    1.  Lambda functions using lambda keyword

[**Syntax**]{.underline}

def `function_name (arguments):`

`"function_docstring" # optional`

`function_suite`

`return[expression]`

[**I.e.,**]{.underline}

-   use def
-   use a_given_name():
-   use indent
-   input/output is needed

[**functions vs method**]{.underline}

-   [**functions**]{.underline}

    -   called by its name (independnet)
    -   the function can have different argumetns or may not hve any at all. IF any data (parametrs) are passed, they are passed explicitly.
    -   It may or may not return any data
    -   Function does not deal with Class and its instance

-   [**Method**]{.underline}

    -   similar to a function
    -   associated w/ class/object
    -   accessible to data that is contained within class
    -   example: `a_list.count(element)`

#### Examples

```{python}
# function to print "hello" five times
def print_only():
  for i in range(5):
    print("Hello")
    print()

print_only()

# pring your name
def print_name(name):
  print('Hello', name)

print_name('Mark')

# no input but with return
def sentence():
  x = 'The default name is Python'
  return x

y = sentence()
print(y)

# with input and return
def sum_numbers(x, y):
  return x + y

sum_numbers(20, 30)

# MLabel name and age
def print_info(name, age):
  print('Name:', name)
  print('Age:', age)

print_info('Mark', 26)

# using a default value
def printinfo(name, grade = 'A'):
  print('Name:', name)
  print('Grade:', grade)

printinfo(name = 'Mark')
printinfo(name = 'Mark', grade = 'B')

# returning more than one value
def bill(price):
    tax = price*.05
    tips = price*0.20
    total = price + tax + tips
    print('tax', tax)
    print('tips', tips)
    print('total', total)

bill(50)

# Functions can call other functions ----------
# area
def area(r):
    return 3.14*r**2
area(3)
# volume of cylinder
def volume_cylinder(x, y):
    z = area(x) # call function area
    return z*y
volume_cylinder(10, 11)

# return data structure like list
def list_maker(n):
    aList = []
    if n > 0:
        for i in range(n):
            aList.append(i)
    else:
            print(" n needs to be larger than 0")
    return aList

x = list_maker(10)
print(x)

```

#### Using modules

```{python}
import random
value = random.randint(1,4)
value = random.random()
anyone = (random.choice([1, 4, 10, 3]))
random.seed(5)
```

## Saving the Rmd as .ipynb

```{r}
setwd("~/Library/Mobile Documents/com~apple~CloudDocs/PhD/Classes/Spring 2023/Python")
devtools::install_github("mkearney/rmd2jupyter")
library(rmd2jupyter)
rmd2jupyter("Test_file.Rmd")
```
