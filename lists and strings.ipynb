{
    "cells": [
        {
            "cell_type": "markdown",
            "metadata": {},
            "source": [
                "# LISTS AND STRINGS\n",
                "\n",
                "## Loading `reticulate` package\n"
            ]
        },
        {
            "cell_type": "code",
            "execution_count": null,
            "metadata": {},
            "outputs": [],
            "source": [
                "library(reticulate)\n",
                "use_python('/Users/marktenenbaum/opt/anaconda3/bin/python')\n"
            ]
        },
        {
            "cell_type": "markdown",
            "metadata": {},
            "source": [
                "Note: to get the above path, go to my terminal and type \"where python\" and it will return the path\n",
                "\n",
                "## LISTS\n",
                "\n",
                "Some background info\n",
                "\n",
                "-   A list is a type of sequence.\n",
                "-   A *sequence* is a set of elements with a deterministic order\n",
                "    -   Types of sequences: lists, strings, range, tuples\n",
                "-   By contrast, a *collection* has no such order\n"
            ]
        },
        {
            "cell_type": "code",
            "execution_count": null,
            "metadata": {},
            "outputs": [],
            "source": [
                "# Lists can hold multiple types/classes of items or can be empty\n",
                "list_A =  ['Physics', 'Chemistry', 1997, 2021]\n",
                "list_B = []\n",
                " \n",
                "# Start at 0:      0     1    2    3    4    5\n",
                "        list_A = [1,    2,   3,   4,   5,   6]\n",
                "        list_2 = ['a', 'b', 'c', 'x', 'y', 'z']\n",
                "\n",
                "# Some examples \n",
                "list_2[2]        # third item\n",
                "list_2[1:3]      # second and third item (1 and 2, does not count 3)\n",
                "list_2[2:]       # everything after the second item (3, 4, ...)\n",
                "list_2[:2]       # everything before the third item (0, 1)\n",
                "list_2[:]        # full list\n",
                "list_2[::]       # full list\n",
                "list_2[-1]       # last value\n"
            ]
        },
        {
            "cell_type": "markdown",
            "metadata": {},
            "source": [
                "Lists can also be manipulated/combined\n",
                "\n"
            ]
        },
        {
            "cell_type": "code",
            "execution_count": null,
            "metadata": {},
            "outputs": [],
            "source": [
                "list_A[2] = 'Python'    # Replacing 3rd element (0, 1, 2) with this word\n",
                "list_A + list_2         # combining two lists\n",
                "list_A*4                # print list 4 times\n",
                "3 in [1, 2, 3]          # T/F\n",
                "4 not in [1, 2, 3]      # T/F\n"
            ]
        },
        {
            "cell_type": "markdown",
            "metadata": {},
            "source": [
                "Some common functions `len` length `max` largest element `min` smallest element `sorted` sort elements `list()` convert type to list `del` delete single element or whole list\n",
                "\n"
            ]
        },
        {
            "cell_type": "code",
            "execution_count": null,
            "metadata": {},
            "outputs": [],
            "source": [
                "numb_list = [3, 1, 2]\n",
                "\n",
                "sorted_list = sorted(numb_list) # saving new list that is ordered\n",
                "del(numb_list[0])               # deleting one element from list\n"
            ]
        },
        {
            "cell_type": "markdown",
            "metadata": {},
            "source": [
                "List methods\n",
                "\n",
                "-   list_name.method\n",
                "\n",
                "-   by default, \"in place\" is true, not return\n",
                "\n",
                "    ![](images/paste-1889EDCB.png)\n"
            ]
        },
        {
            "cell_type": "code",
            "execution_count": null,
            "metadata": {},
            "outputs": [],
            "source": [
                "grades = [90, 80, 100, 88, 90, 70, 60]\n",
                "grades.count(90)                # count of numb of times 90 is in list (2)\n",
                "grades.insert(2, 100)           # inserts 100 as the third item (0, 1, 2)\n",
                "grades.append(99)               # adds 99 to end\n",
                "one_number = grades.pop(2)      # removes element at specific position\n",
                "grades.sort(reverse = True)     # sort by descending\n",
                "grades.extend(88)               # adds new grades to end \n"
            ]
        },
        {
            "cell_type": "markdown",
            "metadata": {},
            "source": [
                "You can also have *two dimensional lists* which consists of rows and columns\n",
                "\n",
                "-   You can enter two sets of subsets on these: the first for rows, and the second for columns\n"
            ]
        },
        {
            "cell_type": "code",
            "execution_count": null,
            "metadata": {},
            "outputs": [],
            "source": [
                "grades_all_sub = [[1, 2, 3, 4], \n",
                "                 \t[5, 6, 7, 8], \n",
                "                 \t[4, 3, 2, 1]] \n",
                "\n",
                "grades_all_sub[1]      # Extract second row\n",
                "grades_all_sub[1][0]   # first item, second row\n",
                "grades_all_sub[1][1:3] # second and third item\n"
            ]
        },
        {
            "cell_type": "markdown",
            "metadata": {},
            "source": [
                "## Strings\n",
                "\n",
                "Some backgrounds\n",
                "\n",
                "-   While lists are mutable (can be changed), strings cannot\n",
                "\n",
                "-   Imagine a = 'Hello' and b = 'Python'\n",
                "\n",
                "-   ![](images/paste-5082AAD9.png){width=\"800\"}\n"
            ]
        },
        {
            "cell_type": "code",
            "execution_count": null,
            "metadata": {},
            "outputs": [],
            "source": [
                "email = 'abc@gmail.com'\n",
                "len(email)       # length of string\n",
                "email[0] # first item\n",
                "email[-1] # last item\n",
                "email[3:5] # 4-5 item (3, 4)\n",
                "\n",
                "# Strings cant be changed, just made into new strings\n",
                "new_email = email.replace('a', 'z') # replaces a with z\n",
                "email . upper()   # set string to uppercase\n",
                "email . lower()   # set string to lowercalse\n",
                "\n",
                "# combining srings\n",
                "two_emails = new_email + email\n",
                "\n",
                "# checking contents of string\n",
                "numb_string = '12345'\n",
                "numb_string . isdigit()   # T/F is composed of numbers\n",
                "numb_string . isnumeric() # same\n",
                "numb_string . isalpha()   # T/F is alpha\n",
                "numb_string . isalpha()   # T/F is alpha-numeric\n",
                "\n",
                "# Separating string into list\n",
                "sentence = 'Hi I am Mark'\n",
                "test = sentence . split(' ')\n",
                "\n",
                "# removing whitespace\n",
                "string = '   Hey, how are you?    '\n",
                "string . strip()\n"
            ]
        },
        {
            "cell_type": "markdown",
            "metadata": {},
            "source": [
                "## Examples\n",
                "\n",
                "**Q1: For a given date (year, month, day), calculate how many days have passed from Jan. 1st, 2000** - There are 365 days in a regular year, 366 days in a leap year. - Number of days for all 12 months are [31, 28, 31, 30, 31, 30, 31, 31, 30, 31, 30, 31]. - There are 29 days in Feb if that year is leap year.\n"
            ]
        },
        {
            "cell_type": "code",
            "execution_count": null,
            "metadata": {},
            "outputs": [],
            "source": [
                "# Given \n",
                "yyyy = 2000\n",
                "month_days = [31, 28, 31, 30, 31, 30, 31, 31, 30, 31, 30, 31] \n",
                "\n",
                "# for today\n",
                "this_year  = 2023\n",
                "month = 1\n",
                "day   = 25 \n",
                "\n",
                "# Code here\n",
                "# (1) For any year later then yyyy = 2000, days passed is (year - yyyy)*365 days\n",
                "days_passed = (this_year - yyyy)*365\n",
                "\n",
                "#(2) For any given month: the days passed should be the sum of all days in months passed  \n",
                "days_passed += sum(month_days[0:month-1])\n",
                "\n",
                "# (3)For any given date day: the days pass is day - 1 \n",
                "days_passed += (day - 1)\n",
                "\n",
                "# (4) for additional days: add all leap years in between:\n",
                "for y in range (2000, 2023, 4):\n",
                "    if(y%4 == 0 and y%100 != 0) or (y%400 == 0):\n",
                "        days_passed += 1\n",
                "\n",
                "# (5) if current year is leap year and month is after Feb. add one more day Feb. 29\n",
                "    \n",
                "if((this_year%4 == 0 and this_year%100 != 0) and month > 2) or ((this_year%400 == 0) and month > 2):\n",
                "        days_passed += 1\n",
                "        \n",
                "# for today, the number of days passed: 8425\n",
                "days_passed\n"
            ]
        },
        {
            "cell_type": "markdown",
            "metadata": {},
            "source": [
                "**Q2: Given that January 1, 2000 falls on a Saturday, what day of the week is today? (Sunday, Monday, etc.)**\n",
                "\n"
            ]
        },
        {
            "cell_type": "code",
            "execution_count": null,
            "metadata": {},
            "outputs": [],
            "source": [
                "# Given 2000 Jan. 1 falls on Sat\n",
                "week_day = [\"Sun\", \"Mon\", \"Tue\", \"Wed\", \"Thu\", \"Fri\", \"Sat\"]\n",
                "start = 6     # Jan. 1st, 2000 Sat. \n",
                "\n",
                "# Finally, the the day of the week = ( start + total days passed)%7\n",
                "ind = (6 + days_passed)%7\n",
                "week_day[ind]\n"
            ]
        },
        {
            "cell_type": "markdown",
            "metadata": {},
            "source": [
                "**Q3: Write code where you input a year and month and Python prints a monthly calendar**\n",
                "\n"
            ]
        },
        {
            "cell_type": "code",
            "execution_count": null,
            "metadata": {},
            "outputs": [],
            "source": [
                "# use list for the given data \n",
                "month_name  = [\"January\", \"February\", \"March\", \"April\", \"May\", \"June\", \n",
                "              \"July\", \"August\", \"September\", \"Octber\",\"November\", \"December\" ]\n",
                "\n",
                "week_day    = [\"Su\", \"Mo\", \"Tu\", \"We\", \"Th\", \"Fr\", \"Sa\"]\n",
                "month_day   = [31, 28, 31, 30, 31, 30, 31, 31, 30, 31, 30, 31]\n",
                "# Given 2000 Jan. 1 falls on a Sat.\n",
                "offset_0 = 6\n",
                "\n",
                "# Code here\n",
                "while True: \n",
                "    # yyyy greater than 2000\n",
                "    yyyy = int(input(\"Enter a year greater than or equal to 2000: \"))\n",
                "    if yyyy < 2000:\n",
                "        print(\"year must be greater than or equal to 2000\")\n",
                "        play_again = input('Play again? y/n')\n",
                "        if play_again == 'n' or play_again == 'N':\n",
                "            break\n",
                "        continue\n",
                "    \n",
                "    ## mm between 1-12\n",
                "    mm = int(input(\"Enter a month (1-12): \"))\n",
                "    if mm < 1 or mm > 12:\n",
                "        print('Not a valid month')\n",
                "        play_again = input('Play again? y/n')\n",
                "        if play_again == 'n' or play_again == 'N':\n",
                "            break\n",
                "        continue\n",
                "\n",
                "    ## leap year code \n",
                "    for month in range(1,13):\n",
                "        if (yyyy%4 == 0 and yyyy%100 != 0) or (yyyy%400 == 0):\n",
                "            month_day[1] = 29\n",
                "        else:\n",
                "            month_day[1] = 28\n",
                "    \n",
                "\n",
                "    ## starting month on right day \n",
                "    month_start = (sum(month_day[:mm-1]) + (yyyy-1) + (yyyy-1)//4 - (yyyy-1)//100 + (yyyy-1)//400 + (offset_0+1)) % 7\n",
                "\n",
                "    # print calendar\n",
                "    print(month_name[mm-1] + \" \" + str(yyyy))\n",
                "    print(\" \".join(week_day))\n",
                "\n",
                "    for i in range(month_start):\n",
                "        print(\"  \", end=\" \")\n",
                "\n",
                "    for i in range(1, month_day[mm - 1] + 1):\n",
                "        print(f'{i:3}', end=\"\")\n",
                "        if (i + month_start) % 7 == 0:\n",
                "            print()\n",
                "            \n",
                "    ##  play again?       \n",
                "    play_again = input('Play again? y/n')\n",
                "    if play_again == 'n' or play_again == 'N':\n",
                "        break\n"
            ]
        },
        {
            "cell_type": "markdown",
            "metadata": {},
            "source": [
                "**Q4: Write code where you input a year and Python prints a yearly calendar**\n",
                "\n"
            ]
        },
        {
            "cell_type": "code",
            "execution_count": null,
            "metadata": {},
            "outputs": [],
            "source": [
                "while True:\n",
                "    \n",
                "    ## picking yaer\n",
                "    yyyy = int(input(\"Enter a year greater than or equal to 2000: \"))\n",
                "    if yyyy<2000:\n",
                "        print(\"year must be greater than or equal to 2000\")\n",
                "        play_again = input('Play again? y/n')\n",
                "        if play_again == 'n' or play_again == 'N':\n",
                "            break\n",
                "        continue\n",
                "        \n",
                "    ## dealing w/ leap years   \n",
                "    for mm in range(1,13):\n",
                "        if (yyyy%4 == 0 and yyyy%100 != 0) or (yyyy%400 == 0):\n",
                "            month_day[1] = 29\n",
                "        else:\n",
                "            month_day[1] = 28\n",
                "            \n",
                "    ## get the starting day of the month\n",
                "    for mm in range(1,13):\n",
                "        month_start = (sum(month_day[:mm-1]) + (yyyy-1) + (yyyy-1)//4 - (yyyy-1)//100 + (yyyy-1)//400 + (offset_0+1)) % 7\n",
                "\n",
                "    ## print calendar\n",
                "        print(month_name[mm-1] + \" \" + str(yyyy))\n",
                "        print(\" \".join(week_day))\n",
                "\n",
                "        for i in range(month_start):\n",
                "            print(\"  \", end=\" \")\n",
                "\n",
                "        for i in range(1, month_day[mm - 1] + 1):\n",
                "            print(f'{i:3}', end=\"\")\n",
                "            if (i + month_start) % 7 == 0:\n",
                "                print()\n",
                "        print(\"\\n\")\n",
                "    play_again = input('Play again? y/n')\n",
                "    if play_again.lower() == 'n':\n",
                "        break\n"
            ]
        },
        {
            "cell_type": "markdown",
            "metadata": {},
            "source": [
                "## Saving the Rmd as .ipynb\n",
                "\n"
            ]
        },
        {
            "cell_type": "code",
            "execution_count": null,
            "metadata": {},
            "outputs": [],
            "source": [
                "devtools::install_github(\"mkearney/rmd2jupyter\")\n",
                "library(rmd2jupyter)\n",
                "rmd2jupyter(\".Rmd\")\n"
            ]
        }
    ],
    "metadata": {
        "anaconda-cloud": "",
        "kernelspec": {
            "display_name": "R",
            "langauge": "R",
            "name": "ir"
        },
        "language_info": {
            "codemirror_mode": "r",
            "file_extension": ".r",
            "mimetype": "text/x-r-source",
            "name": "R",
            "pygments_lexer": "r",
            "version": "3.4.1"
        }
    },
    "nbformat": 4,
    "nbformat_minor": 1
}
