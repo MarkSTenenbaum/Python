{
    "cells": [
        {
            "cell_type": "markdown",
            "metadata": {},
            "source": "\n"
        },
        {
            "cell_type": "code",
            "execution_count": null,
            "metadata": {},
            "outputs": [],
            "source": [
                "library(reticulate)\n",
                "use_python('/Users/marktenenbaum/opt/anaconda3/bin/python')\n"
            ]
        },
        {
            "cell_type": "markdown",
            "metadata": {},
            "source": [
                "# Numpy\n",
                "\n"
            ]
        },
        {
            "cell_type": "code",
            "execution_count": null,
            "metadata": {},
            "outputs": [],
            "source": [
                "import numpy as np\n",
                "\n"
            ]
        },
        {
            "cell_type": "markdown",
            "metadata": {},
            "source": [
                "### Some Basics\n",
                "\n",
                "**Numpy**:\n",
                "\n",
                "-   a library multidimensional array objects and\n",
                "-   a collection of routines for processing those arrays.\n",
                "\n",
                "**Using NumPy:**\n",
                "\n",
                "-   Mathematical: Linear Algebra, Fourier Transformation\n",
                "-   Logical operations on arrays, filtering\n",
                "-   Statistics, Math/matrix operation, A+B, A.dot(B), A.T , ...\n",
                "\n",
                "**Comparison of Numpy and Python**\n",
                "\n",
                "-   Faster than base python\n",
                "-   Uses less memory\n",
                "-   Does not do typecheck\n",
                "-   Stores in continuous way\n",
                "-   ![Comparison](https://imgur.com/L0lXGJe)\n",
                "\n",
                "### Array Creation\n"
            ]
        },
        {
            "cell_type": "code",
            "execution_count": null,
            "metadata": {},
            "outputs": [],
            "source": [
                "## Creating with list\n",
                "data1 = [6, 7.5, 8, 0, 1]\n",
                "arr1 = np.array(data1)\n",
                "\n",
                "## Creating with tuple\n",
                "x = (1,2,3) \n",
                "a = np.array(x)\n",
                "\n",
                "## Creating with 2d list\n",
                "a = np.array([[1, 2], [3, 4]]) \n"
            ]
        },
        {
            "cell_type": "markdown",
            "metadata": {},
            "source": [
                "### Array Manipulation\n",
                "\n"
            ]
        },
        {
            "cell_type": "code",
            "execution_count": null,
            "metadata": {},
            "outputs": [],
            "source": [
                "## \"Arange\" to create ordered list\n",
                "np.arange(10)        \n",
                "np.arange(0, 15, 3)                    # 0 - 15, by intervals of 3\n",
                "\n",
                "## Linear space\n",
                "x = np.linspace(10,20,5)      \n",
                "x\n",
                "\n",
                "## Quanity of zeroes\n",
                "np.zeros(10)                          # prints 10 zeroes\n",
                "\n",
                "## Multiplying arrays (pairwise)\n",
                "a = np.array([1, 2, 3, 4])\n",
                "b = np.array([10, 20, 30, 40])\n",
                "a*b \n",
                "\n",
                "## Reshaping and flattening\n",
                "a = np.arange(0, 60, 5).reshape(3,4)  # create 3x4 array\n",
                "\n",
                "print(a.flat[6])                      # print 7th element\n",
                "\n",
                "print(a.flatten())                    # flatten the array\n",
                "\n",
                "## Transposing\n",
                "print(a.T)                            # method 1\n",
                "print(np.transpose(a))                # method 2\n"
            ]
        },
        {
            "cell_type": "markdown",
            "metadata": {},
            "source": [
                "### Sorting, Searching, and Counting\n",
                "\n"
            ]
        },
        {
            "cell_type": "code",
            "execution_count": null,
            "metadata": {},
            "outputs": [],
            "source": [
                "a = np.array([[3,7],[9,1]])            # 2D array\n",
                "print(np.sort(a))                      # sort each row\n",
                "np.sort(a, axis = 0)                   # sort each column\n",
                "\n",
                "## Pair-wise array functions\n",
                "a = np.array([1, 2, 3, 4, 5])\n",
                "b = np.array([10, 20, 30, 40, 50])\n",
                "np.add(a,b)                           # a + b\n",
                "np.subtract(a,b)                      # a- b\n",
                "np.multiply(a,b)                      # a*b\n",
                "np.divide(a, b)                       # a/b\n",
                "np.mod(a,b) \n",
                "np.remainder(a,b)\n",
                "\n",
                "arr = np.array([[1., 2., 3.],  \n",
                "                [4., 5., 6.]])\n",
                "arr**2                                # square each element\n",
                "arr - arr                             # add/subtract arrays\n",
                "1/ arr                                # use w/ numbers\n",
                "\n",
                "## Element-wise array functions\n",
                "np.sqrt(arr)\n",
                "np.exp(arr)\n",
                "np.power(a, 2)\n",
                "np.reciprocal(b)  \n"
            ]
        },
        {
            "cell_type": "markdown",
            "metadata": {},
            "source": [
                "### Basic Indexing and Slicing\n",
                "\n"
            ]
        },
        {
            "cell_type": "code",
            "execution_count": null,
            "metadata": {},
            "outputs": [],
            "source": [
                "## Indexing arrays is similar to lists \n",
                "arr = np.arange(10)                    # 10 is exclusive\n",
                "arr[5]                                 # the 5th index\n",
                "arr[5:8]                               # from index 5 to 7\n",
                "\n",
                "## Updating\n",
                "arr[5:8] = 12                          # update its elements\n",
                "arr_slice = arr[5:8]                   # from index 5 to 7\n",
                "arr_slice[1] = 54321                   # add 54321 as the second (0,1) item\n",
                "\n",
                "## For 2d arrays\n",
                "arr2d = np.array([[1, 2, 3], \n",
                "                  [4, 5, 6], \n",
                "                  [7, 8, 9]])\n",
                "\n",
                "arr2d[2]                              # the third row\n",
                "arr2d[0][2]                           # first row, third (0,1) item\n",
                "\n",
                "x = np.array([\t[ 0,  1,  2],\n",
                "\t\t\t[ 3,  4,  5],\n",
                "\t\t\t[ 6,  7,  8],\n",
                "\t\t\t[ 9, 10, 11]]) \n",
                "\t\t\t\n",
                "x[1:4,1:3]                            # in 3nd-4th row, grab 2nd & 3rd items\n",
                "\n",
                "## Boolean indexing\n",
                "x = np.array([[ 0,  1,  2],\n",
                "              [ 3,  4,  5],\n",
                "              [ 6,  7,  8],\n",
                "              [ 9, 10, 11]]) \n",
                "              \n",
                "x[x > 5]                              # extract all numbers larger than 5\n"
            ]
        },
        {
            "cell_type": "markdown",
            "metadata": {},
            "source": [
                "### Dealing with NAs\n",
                "\n"
            ]
        },
        {
            "cell_type": "code",
            "execution_count": null,
            "metadata": {},
            "outputs": [],
            "source": [
                "a = np.array([np.nan, 1, 2, np.nan, 3, 4, 5])\n",
                "[~np.isnan(a)]  # Are there NAs?\n",
                "\n",
                "# print data w/o na\n",
                "print(a[[~np.isnan(a)]])\n",
                "\n",
                "# save data w/o NA\n",
                "a_new = a[[~np.isnan(a)]]\n"
            ]
        },
        {
            "cell_type": "markdown",
            "metadata": {},
            "source": [
                "### Iterating over Array\n",
                "\n"
            ]
        },
        {
            "cell_type": "code",
            "execution_count": null,
            "metadata": {},
            "outputs": [],
            "source": [
                "a = np.arange(0, 60, 5) # 0-60, by 5\n",
                "a = a.reshape(3, 4)     # change a from 1d to 3D, 3row x 4col\n",
                "\n",
                "## E.g., print the element number for each number\n",
                "for x in np.nditer(a):\n",
                "  print(x, end = ' ')\n"
            ]
        },
        {
            "cell_type": "markdown",
            "metadata": {},
            "source": [
                "### Methods for Arrays\n",
                "\n"
            ]
        },
        {
            "cell_type": "code",
            "execution_count": null,
            "metadata": {},
            "outputs": [],
            "source": [
                "## shape\n",
                "a = np.array([[1,2,3],\n",
                "\t\t\t  [4,5,6]]) \n",
                "a.shape    \n",
                "\n",
                "## reshape\n",
                "a.reshape(3,2)\n",
                "\n",
                "## dimensions\n",
                "a.ndim \n"
            ]
        },
        {
            "cell_type": "markdown",
            "metadata": {},
            "source": [
                "### Numpy Random\n",
                "\n",
                "![random](https://imgur.com/ilKbW0M)\n"
            ]
        },
        {
            "cell_type": "code",
            "execution_count": null,
            "metadata": {},
            "outputs": [],
            "source": [
                "# np.random.random(#) # given how many elements, draw uniformly fraction number [0, 1), \n",
                "np.random.random(3)\n",
                "\n",
                "#  .rand(d1, d2) # given array shape, draw uniformly fraction number [0, 1),\n",
                "np.random.rand(2, 3)\n",
                "\n",
                "# .randn(d1, d2): # normal distribution: N(0,1)\n",
                "np.random.randn(5)\n",
                "\n",
                "# .randint(#),  random integer from low to high (exclusive)\n",
                "np.random.randint(10) #  random pick one number of 0-9 \n"
            ]
        },
        {
            "cell_type": "markdown",
            "metadata": {},
            "source": [
                "### Data types: set them and converse them\n",
                "\n"
            ]
        },
        {
            "cell_type": "code",
            "execution_count": null,
            "metadata": {},
            "outputs": [],
            "source": [
                "arr = np.array([1, 2, 3, 4, 5])\n",
                "arr.dtype # int32\n",
                "\n",
                "# you can set the data type up\n",
                "arr1 = np.array([1, 2, 3], dtype=np.int16) # default is int32\n",
                "arr1.dtype # dtype(‘int16’)\n",
                "\n",
                "x = [1,2,3] # int type\n",
                "a = np.asarray(x, dtype = float)  \n",
                "\n",
                "# type conversion by resetting\n",
                "float_arr = arr.astype(np.float64)\n",
                "float_arr.dtype # now is float64\n"
            ]
        },
        {
            "cell_type": "markdown",
            "metadata": {},
            "source": [
                "### Linear Algebra\n",
                "\n"
            ]
        },
        {
            "cell_type": "code",
            "execution_count": null,
            "metadata": {},
            "outputs": [],
            "source": [
                "# dot product\n",
                "x = np.array([[1., 2., 3.], [4., 5., 6.]])\n",
                "y = np.array([[6., 23.], [-1, 7], [8, 9]])\n",
                "print(x)\n",
                "print(y)\n",
                "x.dot(y)\n",
                "\n",
                "# determinant (ad - bc)\n",
                "a = np.array([[1,2], [3,4]]) \n",
                "np.linalg.det(a) \n",
                "\n",
                "# inverse maitrix\n",
                "x = np.array([[1,2],[3,4]]) \n",
                "y = np.linalg.inv(x) \n",
                "print (x) \n",
                "print (y) \n",
                "print( np.dot(x,y))\n",
                "\n",
                "# QR decomposition\n",
                "from numpy.linalg import inv, qr\n",
                "X = np.random.randn(5, 5)\n",
                "mat = X.T.dot(X)\n",
                "inv(mat)\n",
                "mat.dot(inv(mat))\n",
                "q, r = qr(mat)\n",
                "print(q) \n",
                "print(r) \n",
                "\n",
                "# Convert to radians by multiplying with pi/180 \n",
                "print(np.sin(a*np.pi/180))\n"
            ]
        },
        {
            "cell_type": "markdown",
            "metadata": {},
            "source": [
                "![AlgebraPython](https://imgur.com/83Dd4Xp)\n",
                "\n",
                "## Save as ipynb\n"
            ]
        },
        {
            "cell_type": "code",
            "execution_count": null,
            "metadata": {},
            "outputs": [],
            "source": [
                "setwd(\"~/Library/Mobile Documents/com~apple~CloudDocs/PhD/Classes/Spring 2023/Python\")\n",
                "devtools::install_github(\"mkearney/rmd2jupyter\")\n",
                "library(rmd2jupyter)\n",
                "rmd2jupyter(\"Numpy.Rmd\")\n"
            ]
        }
    ],
    "metadata": {
        "anaconda-cloud": "",
        "kernelspec": {
            "display_name": "R",
            "langauge": "R",
            "name": "ir"
        },
        "language_info": {
            "codemirror_mode": "r",
            "file_extension": ".r",
            "mimetype": "text/x-r-source",
            "name": "R",
            "pygments_lexer": "r",
            "version": "3.4.1"
        }
    },
    "nbformat": 4,
    "nbformat_minor": 1
}
