{
 "cells": [
  {
   "cell_type": "markdown",
   "metadata": {},
   "source": [
    "# Data types and operators\n",
    "    1. Numberical (integer and floating )\n",
    "        Operators: +, -, *, /, //, %, **\n",
    "        and  \n",
    "        comparison: ==, !=, >, >=, <, <=\n",
    "        \n",
    "        \n",
    "    2. Boolean (True and False)\n",
    "        logic operator: and  or\n",
    "    \n",
    "    \n",
    "    3. String ( very important, more details later)\n",
    "    "
   ]
  },
  {
   "cell_type": "markdown",
   "metadata": {},
   "source": [
    "## 1.  Numberical\n",
    " - = is assignment\n",
    " - data type is infered. \n",
    "\n"
   ]
  },
  {
   "cell_type": "code",
   "execution_count": 1,
   "metadata": {
    "ExecuteTime": {
     "end_time": "2023-01-11T20:58:16.418873Z",
     "start_time": "2023-01-11T20:58:16.402915Z"
    }
   },
   "outputs": [
    {
     "data": {
      "text/plain": [
       "float"
      ]
     },
     "execution_count": 1,
     "metadata": {},
     "output_type": "execute_result"
    }
   ],
   "source": [
    "# variable name:   the left side of the =\n",
    "# data:            right side of =\n",
    "# assign:          =\n",
    "\n",
    "#(1.a) integers\n",
    "num = 10\n",
    "type(num)  # check the data type\n",
    "\n",
    "#(1.b) floating point number\n",
    "x = 3.1415926\n",
    "type(x)"
   ]
  },
  {
   "cell_type": "code",
   "execution_count": 2,
   "metadata": {
    "ExecuteTime": {
     "end_time": "2023-01-11T20:58:16.426872Z",
     "start_time": "2023-01-11T20:58:16.418873Z"
    },
    "hide_input": false
   },
   "outputs": [
    {
     "name": "stdout",
     "output_type": "stream",
     "text": [
      "101\n"
     ]
    }
   ],
   "source": [
    "# variable need to be declared before using it\n",
    "xyz = 100\n",
    "print(xyz + 1)\n",
    "\n",
    "# --------------- THIS DOES NOT WOKR ----------\n",
    "# print(x100)\n",
    "# x100 = 1000"
   ]
  },
  {
   "cell_type": "markdown",
   "metadata": {},
   "source": [
    "##  data swap"
   ]
  },
  {
   "cell_type": "code",
   "execution_count": 3,
   "metadata": {
    "ExecuteTime": {
     "end_time": "2023-01-11T20:58:16.434876Z",
     "start_time": "2023-01-11T20:58:16.426872Z"
    }
   },
   "outputs": [
    {
     "name": "stdout",
     "output_type": "stream",
     "text": [
      "before swap x y = 10 100\n",
      "after swap x y = 100 10\n"
     ]
    }
   ],
   "source": [
    "# data swap\n",
    "x = 10\n",
    "y = 100\n",
    "\n",
    "print(\"before swap x y =\", x, y)\n",
    "\n",
    "# swap now\n",
    "x, y = y, x\n",
    "print(\"after swap x y =\", x, y)"
   ]
  },
  {
   "cell_type": "markdown",
   "metadata": {},
   "source": [
    "## 2. Boolean "
   ]
  },
  {
   "cell_type": "code",
   "execution_count": 4,
   "metadata": {
    "ExecuteTime": {
     "end_time": "2023-01-11T20:58:16.442878Z",
     "start_time": "2023-01-11T20:58:16.434876Z"
    }
   },
   "outputs": [
    {
     "name": "stdout",
     "output_type": "stream",
     "text": [
      "False\n",
      "pass\n"
     ]
    }
   ],
   "source": [
    "#  boolean takes two values: True or False\n",
    "\n",
    "flag = True\n",
    "type(flag)\n",
    "\n",
    "# operator for comparison: ==, >, <, >=, !=, <= will give a boolean outcome\n",
    "age = 20\n",
    "\n",
    "check = (age > 20)\n",
    "\n",
    "print(check)\n",
    "# print(age > 20)\n",
    "\n",
    "score = 80\n",
    "if score >= 60:\n",
    "    print(\"pass\")"
   ]
  },
  {
   "cell_type": "code",
   "execution_count": 5,
   "metadata": {
    "ExecuteTime": {
     "end_time": "2023-01-11T20:58:16.450871Z",
     "start_time": "2023-01-11T20:58:16.442878Z"
    }
   },
   "outputs": [
    {
     "name": "stdout",
     "output_type": "stream",
     "text": [
      "YES\n",
      "YES\n"
     ]
    }
   ],
   "source": [
    "if (True == 1):\n",
    "    print(\"YES\")\n",
    "\n",
    "if (False == 0):\n",
    "    print(\"YES\")"
   ]
  },
  {
   "cell_type": "markdown",
   "metadata": {},
   "source": [
    "###  Logic Operators for boolean:\n",
    " - and \n",
    " - or\n",
    " - not"
   ]
  },
  {
   "cell_type": "code",
   "execution_count": 6,
   "metadata": {
    "ExecuteTime": {
     "end_time": "2023-01-11T20:58:16.466870Z",
     "start_time": "2023-01-11T20:58:16.450871Z"
    }
   },
   "outputs": [
    {
     "name": "stdout",
     "output_type": "stream",
     "text": [
      "you drink: Coffee\n"
     ]
    }
   ],
   "source": [
    "# logical operator: and, or, not...\n",
    "age = 20\n",
    "sex = \"male\"\n",
    "\n",
    "# for both must be true\n",
    "if (age > 20) and (sex == 'male'):\n",
    "    print(\"Name and age:\", name, sex)\n",
    "\n",
    "# for either or\n",
    "drink = \"Coffee\"  # or \"Tea\"\n",
    "if (drink == \"Coffee\") or (drink == \"Tea\"):\n",
    "    print(\"you drink:\", drink)\n",
    "\n",
    "# for opposite side\n",
    "play_again = True\n",
    "\n",
    "# play_again = False\n",
    "\n",
    "if not play_again:\n",
    "    print(\"Good Bye!\")"
   ]
  },
  {
   "cell_type": "markdown",
   "metadata": {},
   "source": [
    "## 3. String "
   ]
  },
  {
   "cell_type": "code",
   "execution_count": 8,
   "metadata": {
    "ExecuteTime": {
     "end_time": "2023-01-11T20:59:15.777500Z",
     "start_time": "2023-01-11T20:59:15.753505Z"
    },
    "hide_input": false
   },
   "outputs": [
    {
     "name": "stdout",
     "output_type": "stream",
     "text": [
      "W\n",
      "e\n",
      "Washi\n",
      "rge\n"
     ]
    }
   ],
   "source": [
    "# (3) string\n",
    "name = 'Smith'\n",
    "type(name)\n",
    "\n",
    "# string methods\n",
    "president = \"Washington, George\"\n",
    "\n",
    "len(president)  # another built-in function\n",
    "\n",
    "type(president)  # data type\n",
    "\n",
    "print(president[0])  # the first letter in STRING\n",
    "\n",
    "print(president[-1])  # the last letter\n",
    "print(president[0:5])  # the  first 5 letters\n",
    "print(president[15:28])  # from index 15 to the last\n",
    "\n",
    "\n",
    "# ex=\" \" # string but with white space, valid\n",
    "# len(ex)"
   ]
  },
  {
   "cell_type": "markdown",
   "metadata": {},
   "source": [
    "## You try"
   ]
  },
  {
   "cell_type": "code",
   "execution_count": 9,
   "metadata": {
    "ExecuteTime": {
     "end_time": "2023-01-11T20:59:20.737719Z",
     "start_time": "2023-01-11T20:59:20.729722Z"
    }
   },
   "outputs": [
    {
     "name": "stdout",
     "output_type": "stream",
     "text": [
      "Hi Python\n"
     ]
    }
   ],
   "source": [
    "## Do NOT use the key words\n",
    "\n",
    "# example:\n",
    "# print = \"Python\"\n",
    "\n",
    "print(\"Hi Python\")"
   ]
  },
  {
   "cell_type": "code",
   "execution_count": 10,
   "metadata": {
    "ExecuteTime": {
     "end_time": "2023-01-11T20:59:21.326002Z",
     "start_time": "2023-01-11T20:59:21.302029Z"
    }
   },
   "outputs": [],
   "source": [
    "## Run cells top-down one by one.\n",
    "\n",
    "# If you run your cells in random order, the variable values changes accordingly.\n",
    "\n",
    "xyz = 100"
   ]
  },
  {
   "cell_type": "code",
   "execution_count": 11,
   "metadata": {
    "ExecuteTime": {
     "end_time": "2023-01-11T20:59:21.884638Z",
     "start_time": "2023-01-11T20:59:21.868662Z"
    }
   },
   "outputs": [
    {
     "name": "stdout",
     "output_type": "stream",
     "text": [
      "100\n"
     ]
    }
   ],
   "source": [
    "print(xyz)"
   ]
  },
  {
   "cell_type": "code",
   "execution_count": 12,
   "metadata": {
    "ExecuteTime": {
     "end_time": "2023-01-11T20:59:22.458002Z",
     "start_time": "2023-01-11T20:59:22.450002Z"
    }
   },
   "outputs": [],
   "source": [
    "xyz = 200"
   ]
  },
  {
   "cell_type": "code",
   "execution_count": 13,
   "metadata": {
    "ExecuteTime": {
     "end_time": "2023-01-11T20:59:23.241544Z",
     "start_time": "2023-01-11T20:59:23.225517Z"
    }
   },
   "outputs": [
    {
     "name": "stdout",
     "output_type": "stream",
     "text": [
      "x and its type:   12.95 <class 'float'>\n",
      "x after changed to int:  12\n",
      "y and its type 1.3 <class 'float'>\n"
     ]
    }
   ],
   "source": [
    "# define an int, a float, and a string, then check them(type and value)\n",
    "\n",
    "# float\n",
    "x = 12.95  # x is float\n",
    "type(x)\n",
    "print(\"x and its type:  \", x, type(x))\n",
    "\n",
    "# converting\n",
    "print(\"x after changed to int: \", int(x))  # decimal is gone\n",
    "\n",
    "# converting again\n",
    "y = 13 / 10  # two integer can give a float value\n",
    "type(y)\n",
    "print(\"y and its type\", y, type(y))"
   ]
  },
  {
   "cell_type": "code",
   "execution_count": 14,
   "metadata": {
    "ExecuteTime": {
     "end_time": "2023-01-11T20:59:24.333528Z",
     "start_time": "2023-01-11T20:59:24.309534Z"
    }
   },
   "outputs": [
    {
     "data": {
      "text/plain": [
       "False"
      ]
     },
     "execution_count": 14,
     "metadata": {},
     "output_type": "execute_result"
    }
   ],
   "source": [
    "# //  float division\n",
    "7 // 3\n",
    "type(x)\n",
    "\n",
    "# % modulus: for even numbers\n",
    "10 % 2 == 0\n",
    "\n",
    "# # ** for expoential, not the ^\n",
    "# 2**10\n",
    "\n",
    "# # and for logic AND, not the &&\n",
    "True and False"
   ]
  },
  {
   "cell_type": "code",
   "execution_count": null,
   "metadata": {
    "ExecuteTime": {
     "end_time": "2023-01-11T20:58:16.666873Z",
     "start_time": "2023-01-11T20:58:16.418Z"
    }
   },
   "outputs": [],
   "source": [
    "# end"
   ]
  }
 ],
 "metadata": {
  "hide_input": false,
  "kernelspec": {
   "display_name": "Python 3",
   "language": "python",
   "name": "python3"
  },
  "language_info": {
   "codemirror_mode": {
    "name": "ipython",
    "version": 3
   },
   "file_extension": ".py",
   "mimetype": "text/x-python",
   "name": "python",
   "nbconvert_exporter": "python",
   "pygments_lexer": "ipython3",
   "version": "3.8.8"
  },
  "toc": {
   "base_numbering": 1,
   "nav_menu": {},
   "number_sections": true,
   "sideBar": true,
   "skip_h1_title": false,
   "title_cell": "Table of Contents",
   "title_sidebar": "Contents",
   "toc_cell": false,
   "toc_position": {},
   "toc_section_display": true,
   "toc_window_display": false
  },
  "varInspector": {
   "cols": {
    "lenName": 16,
    "lenType": 16,
    "lenVar": 40
   },
   "kernels_config": {
    "python": {
     "delete_cmd_postfix": "",
     "delete_cmd_prefix": "del ",
     "library": "var_list.py",
     "varRefreshCmd": "print(var_dic_list())"
    },
    "r": {
     "delete_cmd_postfix": ") ",
     "delete_cmd_prefix": "rm(",
     "library": "var_list.r",
     "varRefreshCmd": "cat(var_dic_list()) "
    }
   },
   "types_to_exclude": [
    "module",
    "function",
    "builtin_function_or_method",
    "instance",
    "_Feature"
   ],
   "window_display": false
  }
 },
 "nbformat": 4,
 "nbformat_minor": 2
}
